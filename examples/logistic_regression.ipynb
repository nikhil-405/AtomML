{
 "cells": [
  {
   "cell_type": "code",
   "execution_count": 1,
   "id": "2520073b",
   "metadata": {},
   "outputs": [],
   "source": [
    "import numpy as np\n",
    "from utils.data_loaders import load_tabular_data\n",
    "from classification import LogisticRegression\n",
    "from sklearn.preprocessing import StandardScaler"
   ]
  },
  {
   "cell_type": "code",
   "execution_count": null,
   "id": "7e8e4270",
   "metadata": {},
   "outputs": [],
   "source": [
    "file_path = r\"../data/simple_logistic_regression_data.csv\"\n",
    "\n",
    "x, y = load_tabular_data(file_path, x = [\"x1\", \"x2\", \"x3\", \"x4\"], y = [\"y\"])\n",
    "x = StandardScaler().fit_transform(x)\n",
    "\n",
    "# create an instance of class\n",
    "model = LogisticRegression(lr = 0.1, n_iters = 1000)\n",
    "\n",
    "# call fit method\n",
    "model.fit(x, y)\n",
    "\n",
    "# call predict or predict_proba\n",
    "predictions = model.predict_proba(x)"
   ]
  }
 ],
 "metadata": {
  "kernelspec": {
   "display_name": "ml_scratch",
   "language": "python",
   "name": "python3"
  },
  "language_info": {
   "codemirror_mode": {
    "name": "ipython",
    "version": 3
   },
   "file_extension": ".py",
   "mimetype": "text/x-python",
   "name": "python",
   "nbconvert_exporter": "python",
   "pygments_lexer": "ipython3",
   "version": "3.12.3"
  }
 },
 "nbformat": 4,
 "nbformat_minor": 5
}

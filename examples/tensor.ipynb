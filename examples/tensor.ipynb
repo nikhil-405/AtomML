{
 "cells": [
  {
   "cell_type": "code",
   "execution_count": 1,
   "id": "478223ef",
   "metadata": {},
   "outputs": [],
   "source": [
    "import numpy as np\n",
    "from core.tensor import Tensor"
   ]
  },
  {
   "cell_type": "markdown",
   "id": "46cc1218",
   "metadata": {},
   "source": [
    "### Basic operations in the tensor class"
   ]
  },
  {
   "cell_type": "code",
   "execution_count": 2,
   "id": "840d5af0",
   "metadata": {},
   "outputs": [
    {
     "data": {
      "text/plain": [
       "array(2.)"
      ]
     },
     "execution_count": 2,
     "metadata": {},
     "output_type": "execute_result"
    }
   ],
   "source": [
    "a =  Tensor(2.0)\n",
    "a.data"
   ]
  },
  {
   "cell_type": "code",
   "execution_count": 6,
   "id": "5edc802a",
   "metadata": {},
   "outputs": [
    {
     "name": "stdout",
     "output_type": "stream",
     "text": [
      "Tensor(data=16.0)\n",
      "Tensor(data=55.0)\n",
      "Tensor(data=20.0)\n"
     ]
    }
   ],
   "source": [
    "x = Tensor(5)\n",
    "y = Tensor(11)\n",
    "print(x+y)\n",
    "print(x*y)\n",
    "print(x*4)"
   ]
  },
  {
   "cell_type": "code",
   "execution_count": 4,
   "id": "a48333e4",
   "metadata": {},
   "outputs": [
    {
     "name": "stdout",
     "output_type": "stream",
     "text": [
      "Help on class Tensor in module core.tensor:\n",
      "\n",
      "class Tensor(builtins.object)\n",
      " |  Tensor(data, _children=(), _op='', requires_grad=False)\n",
      " |\n",
      " |  Methods defined here:\n",
      " |\n",
      " |  __add__(self, other)\n",
      " |\n",
      " |  __init__(self, data, _children=(), _op='', requires_grad=False)\n",
      " |      Initialize self.  See help(type(self)) for accurate signature.\n",
      " |\n",
      " |  __matmul__(self, other)\n",
      " |\n",
      " |  __mul__(self, other)\n",
      " |\n",
      " |  __neg__(self)\n",
      " |\n",
      " |  __pow__(self, other)\n",
      " |\n",
      " |  __radd__(self, other)\n",
      " |\n",
      " |  __repr__(self)\n",
      " |      Return repr(self).\n",
      " |\n",
      " |  __rmul__(self, other)\n",
      " |\n",
      " |  __rsub__(self, other)\n",
      " |\n",
      " |  __rtruediv__(self, other)\n",
      " |\n",
      " |  __sub__(self, other)\n",
      " |\n",
      " |  __truediv__(self, other)\n",
      " |\n",
      " |  backward(self)\n",
      " |      # backprop\n",
      " |\n",
      " |  exp(self)\n",
      " |\n",
      " |  gelu(self)\n",
      " |      # https://arxiv.org/abs/1606.08415\n",
      " |\n",
      " |  leaky_relu(self, alpha=0.01)\n",
      " |\n",
      " |  log(self)\n",
      " |\n",
      " |  mean(self)\n",
      " |\n",
      " |  relu(self)\n",
      " |      # Activation functions\n",
      " |\n",
      " |  sigmoid(self)\n",
      " |\n",
      " |  softmax(self, dim=-1)\n",
      " |\n",
      " |  sum(self)\n",
      " |\n",
      " |  zero_grad(self)\n",
      " |\n",
      " |  ----------------------------------------------------------------------\n",
      " |  Data descriptors defined here:\n",
      " |\n",
      " |  __dict__\n",
      " |      dictionary for instance variables\n",
      " |\n",
      " |  __weakref__\n",
      " |      list of weak references to the object\n",
      "\n"
     ]
    }
   ],
   "source": [
    "# you can view a list of all supported methods using\n",
    "help(Tensor)"
   ]
  },
  {
   "cell_type": "markdown",
   "id": "5ec4065c",
   "metadata": {},
   "source": [
    "### Gradient computation"
   ]
  },
  {
   "cell_type": "code",
   "execution_count": null,
   "id": "6cce6ad1",
   "metadata": {},
   "outputs": [
    {
     "name": "stdout",
     "output_type": "stream",
     "text": [
      "Default is False\n"
     ]
    }
   ],
   "source": [
    "# you can set the requires_grad attribute Boolean based on if you want gradients or not\n",
    "print(f\"Default is {x.requires_grad}\")\n",
    "x.requires_grad = True\n",
    "print(f\"Updated is {x.requires_grad}\") \n",
    "\n",
    "# Make sure to set requires_grad = True before calling backward"
   ]
  },
  {
   "cell_type": "code",
   "execution_count": null,
   "id": "fca8f888",
   "metadata": {},
   "outputs": [],
   "source": []
  }
 ],
 "metadata": {
  "kernelspec": {
   "display_name": "ml_scratch",
   "language": "python",
   "name": "python3"
  },
  "language_info": {
   "codemirror_mode": {
    "name": "ipython",
    "version": 3
   },
   "file_extension": ".py",
   "mimetype": "text/x-python",
   "name": "python",
   "nbconvert_exporter": "python",
   "pygments_lexer": "ipython3",
   "version": "3.12.3"
  }
 },
 "nbformat": 4,
 "nbformat_minor": 5
}

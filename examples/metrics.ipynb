{
 "cells": [
  {
   "cell_type": "markdown",
   "id": "8e761688",
   "metadata": {},
   "source": [
    "Just call the function with y_true, and y_pred as input parameters, eg: \n",
    "```python\n",
    "precision_score(y_true = y_true, y_pred = y_pred)\n",
    "```"
   ]
  },
  {
   "cell_type": "code",
   "execution_count": 1,
   "id": "9f33f888",
   "metadata": {},
   "outputs": [],
   "source": [
    "### Classification metrics"
   ]
  },
  {
   "cell_type": "code",
   "execution_count": 3,
   "id": "8634dd4a",
   "metadata": {},
   "outputs": [],
   "source": [
    "from metrics.classification import accuracy_score, precision_score, recall_score, f1_score\n",
    "import numpy as np"
   ]
  },
  {
   "cell_type": "code",
   "execution_count": 5,
   "id": "5d96304b",
   "metadata": {},
   "outputs": [
    {
     "data": {
      "text/plain": [
       "(array([0, 0, 0, 0, 1, 0, 1, 0, 0, 1], dtype=int32),\n",
       " array([1, 1, 1, 1, 0, 1, 0, 1, 1, 1], dtype=int32))"
      ]
     },
     "execution_count": 5,
     "metadata": {},
     "output_type": "execute_result"
    }
   ],
   "source": [
    "y_true = np.random.randint(2, size = 10) # true labels (based on the dataset)\n",
    "y_pred = np.random.randint(2, size = 10) # predicted labels (based on the model predictions)\n",
    "y_true, y_pred"
   ]
  },
  {
   "cell_type": "code",
   "execution_count": 7,
   "id": "77716f71",
   "metadata": {},
   "outputs": [
    {
     "data": {
      "text/plain": [
       "np.float64(0.1)"
      ]
     },
     "execution_count": 7,
     "metadata": {},
     "output_type": "execute_result"
    }
   ],
   "source": [
    "accuracy_score(y_true = y_true, y_pred = y_pred)"
   ]
  },
  {
   "cell_type": "code",
   "execution_count": 8,
   "id": "a61ade31",
   "metadata": {},
   "outputs": [
    {
     "data": {
      "text/plain": [
       "np.float64(0.125)"
      ]
     },
     "execution_count": 8,
     "metadata": {},
     "output_type": "execute_result"
    }
   ],
   "source": [
    "precision_score(y_true = y_true, y_pred = y_pred, average = 'binary')"
   ]
  },
  {
   "cell_type": "code",
   "execution_count": 9,
   "id": "272fb0b1",
   "metadata": {},
   "outputs": [
    {
     "data": {
      "text/plain": [
       "np.float64(0.3333333333333333)"
      ]
     },
     "execution_count": 9,
     "metadata": {},
     "output_type": "execute_result"
    }
   ],
   "source": [
    "recall_score(y_true = y_true, y_pred = y_pred, average = 'binary')"
   ]
  },
  {
   "cell_type": "code",
   "execution_count": 10,
   "id": "9fe46d8f",
   "metadata": {},
   "outputs": [],
   "source": [
    "### Regression metrics"
   ]
  },
  {
   "cell_type": "code",
   "execution_count": 11,
   "id": "ceb4f146",
   "metadata": {},
   "outputs": [],
   "source": [
    "from metrics.regression import mean_squared_error, root_mean_squared_error, mean_absolute_error, r2_score"
   ]
  },
  {
   "cell_type": "code",
   "execution_count": 12,
   "id": "4d48b4bd",
   "metadata": {},
   "outputs": [
    {
     "data": {
      "text/plain": [
       "(array([83.68192199, 82.85427541, 55.33645526, 76.27572523, 28.57300113,\n",
       "         8.17248688, 88.98247284, 85.71661499, 58.13291785, 61.90821108]),\n",
       " array([47.3511967 , 14.87362104, 48.19005486, 49.40975173, 49.71238604,\n",
       "        75.91999762, 50.27257726, 58.40787922, 34.61679486, 65.8524438 ]))"
      ]
     },
     "execution_count": 12,
     "metadata": {},
     "output_type": "execute_result"
    }
   ],
   "source": [
    "y_true = np.random.rand(10) * 100 # true values (based on the dataset)\n",
    "y_pred = np.random.rand(10) * 100 # predicted values (based on the model predictions)\n",
    "y_true, y_pred"
   ]
  },
  {
   "cell_type": "code",
   "execution_count": 13,
   "id": "c53fdb0d",
   "metadata": {},
   "outputs": [
    {
     "data": {
      "text/plain": [
       "np.float64(1456.3529421428243)"
      ]
     },
     "execution_count": 13,
     "metadata": {},
     "output_type": "execute_result"
    }
   ],
   "source": [
    "mean_squared_error(y_true = y_true, y_pred = y_pred)"
   ]
  },
  {
   "cell_type": "code",
   "execution_count": 14,
   "id": "10729c22",
   "metadata": {},
   "outputs": [
    {
     "data": {
      "text/plain": [
       "np.float64(38.162192575149874)"
      ]
     },
     "execution_count": 14,
     "metadata": {},
     "output_type": "execute_result"
    }
   ],
   "source": [
    "root_mean_squared_error(y_true = y_true, y_pred = y_pred)"
   ]
  },
  {
   "cell_type": "code",
   "execution_count": 16,
   "id": "0cba9534",
   "metadata": {},
   "outputs": [
    {
     "data": {
      "text/plain": [
       "np.float64(32.068963626509856)"
      ]
     },
     "execution_count": 16,
     "metadata": {},
     "output_type": "execute_result"
    }
   ],
   "source": [
    "mean_absolute_error(y_true = y_true, y_pred = y_pred)"
   ]
  },
  {
   "cell_type": "code",
   "execution_count": 17,
   "id": "022fdee7",
   "metadata": {},
   "outputs": [
    {
     "data": {
      "text/plain": [
       "np.float64(-1.2529571327089069)"
      ]
     },
     "execution_count": 17,
     "metadata": {},
     "output_type": "execute_result"
    }
   ],
   "source": [
    "r2_score(y_true = y_true, y_pred = y_pred)"
   ]
  }
 ],
 "metadata": {
  "kernelspec": {
   "display_name": "ml_scratch",
   "language": "python",
   "name": "python3"
  },
  "language_info": {
   "codemirror_mode": {
    "name": "ipython",
    "version": 3
   },
   "file_extension": ".py",
   "mimetype": "text/x-python",
   "name": "python",
   "nbconvert_exporter": "python",
   "pygments_lexer": "ipython3",
   "version": "3.12.3"
  }
 },
 "nbformat": 4,
 "nbformat_minor": 5
}
